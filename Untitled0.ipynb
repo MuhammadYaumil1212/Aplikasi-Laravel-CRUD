{
  "nbformat": 4,
  "nbformat_minor": 0,
  "metadata": {
    "colab": {
      "name": "Untitled0.ipynb",
      "provenance": [],
      "collapsed_sections": [],
      "authorship_tag": "ABX9TyMV7+cDneWzdbDHO7wLSZNN",
      "include_colab_link": true
    },
    "kernelspec": {
      "name": "python3",
      "display_name": "Python 3"
    }
  },
  "cells": [
    {
      "cell_type": "markdown",
      "metadata": {
        "id": "view-in-github",
        "colab_type": "text"
      },
      "source": [
        "<a href=\"https://colab.research.google.com/github/MuhammadYaumil1212/Aplikasi-Laravel-CRUD/blob/master/Untitled0.ipynb\" target=\"_parent\"><img src=\"https://colab.research.google.com/assets/colab-badge.svg\" alt=\"Open In Colab\"/></a>"
      ]
    },
    {
      "cell_type": "code",
      "metadata": {
        "id": "7j_ktWMQskR5",
        "colab_type": "code",
        "outputId": "74fdad37-b9d1-4806-f5e9-b313be67ad3a",
        "colab": {
          "base_uri": "https://localhost:8080/",
          "height": 34
        }
      },
      "source": [
        "# from sklearn.tree import DecissionClassifier\n",
        "# from sklearn.preprocessing import MinMaxScaler\n",
        "\n",
        "# data = [[120000, 33], [40000000, 50], [20000, 20]]\n",
        "# scaler = MinMaxScaler()\n",
        "# scaler.fit(data)\n",
        "# print(scaler.transform(data))\n",
        "\n",
        "# from sklearn import preprocessing\n",
        "\n",
        "# data = [[120000, 33], [40000000, 50], [20000, 20]]\n",
        "# scaler = preprocessing.StandardScaler().fit(data)\n",
        "# data = scaler.transform(data)\n",
        "# print(data)\n",
        "\n",
        "# import sklearn \n",
        "# from sklearn import datasets\n",
        "# from sklearn.model_selection import train_test_split\n",
        "\n",
        "# iris = datasets.load_iris()\n",
        "\n",
        "# x = iris.data\n",
        "# y = iris.target\n",
        "\n",
        "# x_train,x_test,y_train,y_test = train_test_split(x,y, test_size=0.2)\n",
        "\n",
        "# len(x)\n",
        "\n",
        "import sklearn\n",
        "from sklearn import datasets\n",
        "from sklearn.model_selection import cross_val_score\n",
        "from sklearn import tree\n",
        "\n",
        "iris = datasets.load_iris()\n",
        "x = iris.data\n",
        "y = iris.target\n",
        "\n",
        "clf = tree.DecisionTreeClassifier()\n",
        "scores = cross_val_score(clf,x,y, cv=5 )\n",
        "print(scores)\n"
      ],
      "execution_count": 22,
      "outputs": [
        {
          "output_type": "stream",
          "text": [
            "[0.96666667 0.96666667 0.9        0.96666667 1.        ]\n"
          ],
          "name": "stdout"
        }
      ]
    }
  ]
}